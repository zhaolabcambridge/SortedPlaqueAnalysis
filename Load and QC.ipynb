{
 "cells": [
  {
   "cell_type": "code",
   "execution_count": null,
   "id": "d403fdd4-22a9-4df8-a8b1-a9742bc0adaf",
   "metadata": {},
   "outputs": [],
   "source": [
    "# packages\n",
    "import os\n",
    "import sys\n",
    "import scipy\n",
    "import scipy.io as sio\n",
    "import scanpy.external as sce\n",
    "import matplotlib.pyplot as plt\n",
    "import scanpy as sc\n",
    "import numpy as np\n",
    "import pandas as pd\n",
    "import seaborn as sns\n",
    "import umap.umap_ as umap\n",
    "import re\n",
    "import anndata\n",
    "import scirpy as ir\n",
    "from matplotlib.gridspec import GridSpec\n",
    "import random\n",
    "import scipy.stats as stats\n",
    "from scipy.stats import median_abs_deviation"
   ]
  },
  {
   "cell_type": "code",
   "execution_count": null,
   "id": "62d2e61f-062b-4257-a029-751a0dde2ed7",
   "metadata": {},
   "outputs": [],
   "source": [
    "# read in\n",
    "\n",
    "# The DGE_filtered folder contains the expression matrix, genes, and files [QCed in Parse pipeline before export]\n",
    "adata = sc.read_mtx(\"count_matrix.mtx\")\n",
    "\n",
    "# reading in gene and cell data\n",
    "carotid_gene_data = pd.read_csv(\"all_genes.csv\")\n",
    "carotid_cell_meta = pd.read_csv(\"cell_metadata.csv\")\n",
    "\n",
    "# find genes with nan values and filter\n",
    "carotid_gene_data = carotid_gene_data[carotid_gene_data.gene_name.notnull()]\n",
    "notNa = carotid_gene_data.index\n",
    "notNa = notNa.to_list()\n",
    "\n",
    "# remove genes with nan values and assign gene names\n",
    "adata = adata[:,notNa]\n",
    "adata.var = carotid_gene_data\n",
    "adata.var.set_index('gene_name', inplace=True)\n",
    "adata.var.index.name = None\n",
    "adata.var_names_make_unique()\n",
    "\n",
    "# add cell meta data to anndata object\n",
    "adata.obs = carotid_cell_meta\n",
    "adata.obs.set_index('bc_wells', inplace=True)\n",
    "adata.obs.index.name = None\n",
    "adata.obs_names_make_unique()\n",
    "\n",
    "#basic qc\n",
    "sc.pp.filter_cells(adata, min_counts=100)\n",
    "sc.pp.filter_cells(adata, min_genes=200)\n",
    "sc.pp.filter_genes(adata, min_cells=5)\n",
    "adata.shape"
   ]
  },
  {
   "cell_type": "code",
   "execution_count": null,
   "id": "92c46d1f-5108-4270-944a-f490e7043209",
   "metadata": {},
   "outputs": [],
   "source": [
    "adata.var_names_make_unique()"
   ]
  },
  {
   "cell_type": "code",
   "execution_count": null,
   "id": "5ee6ed65-6439-4336-898e-825dd66582a0",
   "metadata": {},
   "outputs": [],
   "source": [
    "# based on www.sc-best-practices.org/preprocessing_visualization/quality_control.html\n",
    "\n",
    "# thorough add'l qc\n",
    "\n",
    "# mitochondrial genes\n",
    "adata.var[\"mt\"] = adata.var_names.str.startswith(\"MT-\")\n",
    "# ribosomal genes\n",
    "adata.var[\"ribo\"] = adata.var_names.str.startswith((\"RPS\", \"RPL\"))\n",
    "# hemoglobin genes\n",
    "adata.var[\"hb\"] = adata.var_names.str.contains((\"^HB[^(P)]\"))\n",
    "\n",
    "sc.pp.calculate_qc_metrics(\n",
    "    adata, qc_vars=[\"mt\", \"ribo\", \"hb\"], inplace=True, percent_top=[20], log1p=True\n",
    ")\n",
    "\n",
    "p1 = sns.displot(adata.obs[\"total_counts\"], bins=100, kde=False)\n",
    "# sc.pl.violin(adata, 'total_counts')\n",
    "p2 = sc.pl.violin(adata, \"pct_counts_mt\")\n",
    "p3 = sc.pl.scatter(adata, \"total_counts\", \"n_genes_by_counts\", color=\"pct_counts_mt\")\n",
    "\n",
    "def is_outlier(adata, metric: str, nmads: int):\n",
    "    M = adata.obs[metric]\n",
    "    outlier = (M < np.median(M) - nmads * median_abs_deviation(M)) | (\n",
    "        np.median(M) + nmads * median_abs_deviation(M) < M\n",
    "    )\n",
    "    return outlier\n",
    "\n",
    "adata.obs[\"outlier\"] = (\n",
    "    is_outlier(adata, \"log1p_total_counts\", 5)\n",
    "    | is_outlier(adata, \"log1p_n_genes_by_counts\", 5)\n",
    ")"
   ]
  },
  {
   "cell_type": "code",
   "execution_count": null,
   "id": "a663724a-0743-41ae-a1a0-daf0e288044c",
   "metadata": {},
   "outputs": [],
   "source": [
    "# filter cells based on qc\n",
    "\n",
    "\n",
    "adata.obs[\"mt_outlier\"] = is_outlier(adata, \"pct_counts_mt\", 5) | (\n",
    "    adata.obs[\"pct_counts_mt\"] > 10\n",
    ")\n",
    "adata.obs.mt_outlier.value_counts()\n",
    "\n",
    "print(f\"Total number of cells: {adata.n_obs}\")\n",
    "adata = adata[(~adata.obs.outlier) & (~adata.obs.mt_outlier)].copy()\n",
    "\n",
    "print(f\"Number of cells after filtering of low quality cells: {adata.n_obs}\")"
   ]
  },
  {
   "cell_type": "code",
   "execution_count": null,
   "id": "9035b76d-65b7-49c4-b7ac-65eec9203ea9",
   "metadata": {},
   "outputs": [],
   "source": [
    "# normalize\n",
    "sc.pp.normalize_total(adata, target_sum=1e4)\n",
    "sc.pp.log1p(adata)"
   ]
  },
  {
   "cell_type": "code",
   "execution_count": null,
   "id": "e8936665-0685-4e90-97b5-e9a6b4a24d66",
   "metadata": {},
   "outputs": [],
   "source": [
    "# highly var\n",
    "sc.pp.highly_variable_genes(adata, min_mean=0.0125, max_mean=3, min_disp=0.25)\n",
    "sc.pl.highly_variable_genes(adata, save='') # scanpy generates the filename automatically\n",
    "\n",
    "# Save raw expression values before variable gene subset\n",
    "adata.raw = adata\n",
    "\n",
    "# remove IR genes from highly var\n",
    "for i in adata.var.index:\n",
    "    if re.search('^IG[HKL][VDJC]', i):\n",
    "        adata.var.at[i, 'highly_variable'] = False\n",
    "\n",
    "for i in adata.var.index:\n",
    "    if re.search('^IG[HKL][VDJ]|IGHM|IGHD|IGHE|IGHA[1-2]|IGHG[1-4]|IGKC|IGLC[1-7]|AC233755.1|TR[ABGD][CV]|IGLL', i):\n",
    "        adata.var.at[i, 'highly_variable'] = False       \n",
    "\n",
    "adata = adata[:, adata.var.highly_variable]\n",
    "\n",
    "sc.pp.regress_out(adata, ['total_counts', 'pct_counts_mt'])"
   ]
  },
  {
   "cell_type": "code",
   "execution_count": null,
   "id": "b8fd0c9c-b8e8-4052-a188-90ade3f4566d",
   "metadata": {},
   "outputs": [],
   "source": [
    "sc.pp.scale(adata, max_value=10)"
   ]
  },
  {
   "cell_type": "code",
   "execution_count": null,
   "id": "d15d37c5-d56b-4ab7-b9d5-76ec8d7001e6",
   "metadata": {},
   "outputs": [],
   "source": [
    "sc.tl.pca(adata, svd_solver=\"arpack\")\n",
    "sc.pl.pca_variance_ratio(adata, log=True, n_pcs=50, save=\"\")"
   ]
  },
  {
   "cell_type": "code",
   "execution_count": null,
   "id": "c3f63c3b-93cc-4824-b51c-b3e65b618776",
   "metadata": {},
   "outputs": [],
   "source": [
    "# harmonize\n",
    "sce.pp.harmony_integrate(adata, 'sample', random_state=65)"
   ]
  },
  {
   "cell_type": "code",
   "execution_count": null,
   "id": "84a3a920-1f99-492f-b9a1-22a6a12ec48f",
   "metadata": {
    "tags": []
   },
   "outputs": [],
   "source": [
    "sc.pp.neighbors(adata, n_neighbors=10, n_pcs=30, use_rep=\"X_pca_harmony\")\n",
    "sc.tl.umap(adata, random_state=68)\n",
    "sc.tl.leiden(adata, resolution=0.7, random_state=68)\n",
    "sc.pl.umap(adata, color=['leiden', 'sample'], legend_fontsize=8)"
   ]
  },
  {
   "cell_type": "code",
   "execution_count": null,
   "id": "211b7a06-eaa7-4971-8db7-6d502deb0b75",
   "metadata": {},
   "outputs": [],
   "source": [
    "sc.tl.rank_genes_groups(adata, \"leiden\", method=\"wilcoxon\")\n",
    "sc.pl.rank_genes_groups(adata, n_genes=15, sharey=False)\n",
    "top_markers = pd.DataFrame(adata.uns['rank_genes_groups']['names']).head(5)\n",
    "print(top_markers)"
   ]
  },
  {
   "cell_type": "code",
   "execution_count": null,
   "id": "344c3c81-098b-4837-953b-44b529a6ec2a",
   "metadata": {},
   "outputs": [],
   "source": [
    "sc.external.pp.scrublet(adata, sim_doublet_ratio=2, expected_doublet_rate=0.05, stdev_doublet_rate=0.02, batch_key=None, random_state=42)"
   ]
  }
 ],
 "metadata": {
  "kernelspec": {
   "display_name": "ellipse",
   "language": "python",
   "name": "python3"
  },
  "language_info": {
   "codemirror_mode": {
    "name": "ipython",
    "version": 3
   },
   "file_extension": ".py",
   "mimetype": "text/x-python",
   "name": "python",
   "nbconvert_exporter": "python",
   "pygments_lexer": "ipython3",
   "version": "3.12.8"
  }
 },
 "nbformat": 4,
 "nbformat_minor": 5
}
