{
 "cells": [
  {
   "cell_type": "markdown",
   "id": "1a085d06",
   "metadata": {},
   "source": [
    "# Cell Cell Communication:\n",
    "\n",
    "Comparing cell to cell communication in plaques for sort vs unsort paper\n",
    "\n",
    "Downsample to make comparisons easier:\n"
   ]
  },
  {
   "cell_type": "code",
   "execution_count": 1,
   "id": "4f87b0c1",
   "metadata": {},
   "outputs": [],
   "source": [
    "#Imports:\n",
    "import pandas as pd\n",
    "import numpy as np\n",
    "import anndata as ad\n",
    "import scanpy as sc\n",
    "from datetime import datetime\n",
    "from cellphonedb.src.core.methods import cpdb_statistical_analysis_method\n",
    "\n",
    "#ignore warnings\n",
    "import warnings\n",
    "warnings.filterwarnings('ignore')\n",
    "\n",
    "#Set up data working directory:\n",
    "data_path = '/home/jo388/rds/rds-zhao-group-HvBBlpwx4dc/ELLIPSE/sort_unsort/data/'\n",
    "figure_path = 'home/jo388/rds/rds-zhao-group-HvBBlpwx4dc/ELLIPSE/sort_unsort/figures/'\n",
    "figure_data = figure_path + \"figure_data/\"\n",
    "\n",
    "%matplotlib inline"
   ]
  },
  {
   "cell_type": "code",
   "execution_count": 2,
   "id": "53e67ba4",
   "metadata": {},
   "outputs": [
    {
     "data": {
      "text/html": [
       "<details>\n",
       "<summary>Click to view session information</summary>\n",
       "<pre>\n",
       "-----\n",
       "anndata             0.11.2\n",
       "cellphonedb         5.0.1\n",
       "numpy               2.0.2\n",
       "pandas              2.2.3\n",
       "scanpy              1.10.4\n",
       "session_info        1.0.0\n",
       "-----\n",
       "</pre>\n",
       "<details>\n",
       "<summary>Click to view modules imported as dependencies</summary>\n",
       "<pre>\n",
       "PIL                 11.1.0\n",
       "asttokens           NA\n",
       "charset_normalizer  3.4.1\n",
       "comm                0.2.2\n",
       "cycler              0.12.1\n",
       "cython_runtime      NA\n",
       "dateutil            2.9.0.post0\n",
       "debugpy             1.8.11\n",
       "decorator           5.1.1\n",
       "executing           2.1.0\n",
       "fbpca               NA\n",
       "geosketch           1.3\n",
       "h5py                3.12.1\n",
       "ipykernel           6.29.5\n",
       "jedi                0.19.2\n",
       "joblib              1.4.2\n",
       "kiwisolver          1.4.8\n",
       "legacy_api_wrap     NA\n",
       "llvmlite            0.43.0\n",
       "matplotlib          3.10.0\n",
       "matplotlib_inline   0.1.7\n",
       "mpl_toolkits        NA\n",
       "natsort             8.4.0\n",
       "numba               0.60.0\n",
       "numpy_groupies      0.11.2\n",
       "packaging           24.2\n",
       "parso               0.8.4\n",
       "platformdirs        4.3.6\n",
       "prompt_toolkit      3.0.48\n",
       "psutil              6.1.1\n",
       "pure_eval           0.2.3\n",
       "pydev_ipython       NA\n",
       "pydevconsole        NA\n",
       "pydevd              3.2.3\n",
       "pydevd_file_utils   NA\n",
       "pydevd_plugins      NA\n",
       "pydevd_tracing      NA\n",
       "pygments            2.19.1\n",
       "pyparsing           3.2.1\n",
       "pytz                2024.2\n",
       "scipy               1.15.0\n",
       "six                 1.17.0\n",
       "sklearn             1.6.0\n",
       "stack_data          0.6.3\n",
       "threadpoolctl       3.5.0\n",
       "tornado             6.4.2\n",
       "tqdm                4.67.1\n",
       "traitlets           5.14.3\n",
       "wcwidth             0.2.13\n",
       "zmq                 26.2.0\n",
       "</pre>\n",
       "</details> <!-- seems like this ends pre, so might as well be explicit -->\n",
       "<pre>\n",
       "-----\n",
       "IPython             8.31.0\n",
       "jupyter_client      8.6.3\n",
       "jupyter_core        5.7.2\n",
       "-----\n",
       "Python 3.12.8 | packaged by Anaconda, Inc. | (main, Dec 11 2024, 16:31:09) [GCC 11.2.0]\n",
       "Linux-4.18.0-553.22.1.el8_10.x86_64-x86_64-with-glibc2.28\n",
       "-----\n",
       "Session information updated at 2025-02-04 19:37\n",
       "</pre>\n",
       "</details>"
      ],
      "text/plain": [
       "<IPython.core.display.HTML object>"
      ]
     },
     "execution_count": 2,
     "metadata": {},
     "output_type": "execute_result"
    }
   ],
   "source": [
    "#Output session Info\n",
    "import session_info\n",
    "session_info.show()"
   ]
  },
  {
   "cell_type": "code",
   "execution_count": 3,
   "id": "318c8278",
   "metadata": {},
   "outputs": [
    {
     "name": "stdout",
     "output_type": "stream",
     "text": [
      "scanpy==1.10.4 anndata==0.11.2 umap==0.5.7 numpy==2.0.2 scipy==1.15.0 pandas==2.2.3 scikit-learn==1.6.0 statsmodels==0.14.4 pynndescent==0.5.13\n"
     ]
    }
   ],
   "source": [
    "#Output package versions:\n",
    "sc.logging.print_header()"
   ]
  },
  {
   "cell_type": "code",
   "execution_count": 4,
   "id": "83467704",
   "metadata": {},
   "outputs": [
    {
     "name": "stdout",
     "output_type": "stream",
     "text": [
      "date and time = 04/02/2025 19:37:32\n"
     ]
    }
   ],
   "source": [
    "#Date time run\n",
    "# datetime object containing current date and time\n",
    "now = datetime.now()\n",
    "dt_string = now.strftime(\"%d/%m/%Y %H:%M:%S\")\n",
    "print(\"date and time =\", dt_string)"
   ]
  },
  {
   "cell_type": "code",
   "execution_count": 5,
   "id": "505d4c9a",
   "metadata": {},
   "outputs": [],
   "source": [
    "#Load Data data:\n",
    "adata = sc.read_h5ad(data_path + \"all_sort_unsort_fine_new_colors.h5ad\")"
   ]
  },
  {
   "cell_type": "code",
   "execution_count": 6,
   "id": "2d7830d2",
   "metadata": {},
   "outputs": [],
   "source": [
    "#Replace .X with raw data (i.e. Log normalised data:)\n",
    "adata = adata.raw.to_adata()"
   ]
  },
  {
   "cell_type": "code",
   "execution_count": 7,
   "id": "33b134c0",
   "metadata": {},
   "outputs": [
    {
     "data": {
      "text/plain": [
       "type\n",
       "unsorted    12088\n",
       "sorted       8205\n",
       "Name: count, dtype: int64"
      ]
     },
     "execution_count": 7,
     "metadata": {},
     "output_type": "execute_result"
    }
   ],
   "source": [
    "adata.obs['type'].value_counts()"
   ]
  },
  {
   "cell_type": "code",
   "execution_count": 8,
   "id": "24385f1d",
   "metadata": {},
   "outputs": [
    {
     "data": {
      "text/html": [
       "<div>\n",
       "<style scoped>\n",
       "    .dataframe tbody tr th:only-of-type {\n",
       "        vertical-align: middle;\n",
       "    }\n",
       "\n",
       "    .dataframe tbody tr th {\n",
       "        vertical-align: top;\n",
       "    }\n",
       "\n",
       "    .dataframe thead th {\n",
       "        text-align: right;\n",
       "    }\n",
       "</style>\n",
       "<table border=\"1\" class=\"dataframe\">\n",
       "  <thead>\n",
       "    <tr style=\"text-align: right;\">\n",
       "      <th>type</th>\n",
       "      <th>sorted</th>\n",
       "      <th>unsorted</th>\n",
       "    </tr>\n",
       "    <tr>\n",
       "      <th>fine_clustering</th>\n",
       "      <th></th>\n",
       "      <th></th>\n",
       "    </tr>\n",
       "  </thead>\n",
       "  <tbody>\n",
       "    <tr>\n",
       "      <th>C1Q+ Macro.</th>\n",
       "      <td>120</td>\n",
       "      <td>836</td>\n",
       "    </tr>\n",
       "    <tr>\n",
       "      <th>CD4+ Teff</th>\n",
       "      <td>409</td>\n",
       "      <td>529</td>\n",
       "    </tr>\n",
       "    <tr>\n",
       "      <th>CD4+ Tnaive</th>\n",
       "      <td>1913</td>\n",
       "      <td>2534</td>\n",
       "    </tr>\n",
       "    <tr>\n",
       "      <th>CD4+ Treg</th>\n",
       "      <td>290</td>\n",
       "      <td>359</td>\n",
       "    </tr>\n",
       "    <tr>\n",
       "      <th>CD4+/CD8+ Trm/exh</th>\n",
       "      <td>128</td>\n",
       "      <td>138</td>\n",
       "    </tr>\n",
       "    <tr>\n",
       "      <th>CD8+ Tem</th>\n",
       "      <td>1980</td>\n",
       "      <td>2585</td>\n",
       "    </tr>\n",
       "    <tr>\n",
       "      <th>CD8+ Temra</th>\n",
       "      <td>278</td>\n",
       "      <td>350</td>\n",
       "    </tr>\n",
       "    <tr>\n",
       "      <th>CD8+ Tnaive</th>\n",
       "      <td>104</td>\n",
       "      <td>102</td>\n",
       "    </tr>\n",
       "    <tr>\n",
       "      <th>CD8+ Trm</th>\n",
       "      <td>418</td>\n",
       "      <td>595</td>\n",
       "    </tr>\n",
       "    <tr>\n",
       "      <th>CD16+ NK</th>\n",
       "      <td>681</td>\n",
       "      <td>692</td>\n",
       "    </tr>\n",
       "    <tr>\n",
       "      <th>CD16- NK</th>\n",
       "      <td>366</td>\n",
       "      <td>341</td>\n",
       "    </tr>\n",
       "    <tr>\n",
       "      <th>Classical Monocytes</th>\n",
       "      <td>201</td>\n",
       "      <td>456</td>\n",
       "    </tr>\n",
       "    <tr>\n",
       "      <th>Intermed. Monocytes</th>\n",
       "      <td>72</td>\n",
       "      <td>254</td>\n",
       "    </tr>\n",
       "    <tr>\n",
       "      <th>Naive B Cell</th>\n",
       "      <td>129</td>\n",
       "      <td>91</td>\n",
       "    </tr>\n",
       "    <tr>\n",
       "      <th>Non. Switched Mem. B Cell</th>\n",
       "      <td>55</td>\n",
       "      <td>67</td>\n",
       "    </tr>\n",
       "    <tr>\n",
       "      <th>SMCs</th>\n",
       "      <td>16</td>\n",
       "      <td>298</td>\n",
       "    </tr>\n",
       "    <tr>\n",
       "      <th>Switched Mem. B Cell</th>\n",
       "      <td>212</td>\n",
       "      <td>133</td>\n",
       "    </tr>\n",
       "    <tr>\n",
       "      <th>TREM2+ Macro.</th>\n",
       "      <td>21</td>\n",
       "      <td>262</td>\n",
       "    </tr>\n",
       "    <tr>\n",
       "      <th>Trans. B Cell</th>\n",
       "      <td>213</td>\n",
       "      <td>209</td>\n",
       "    </tr>\n",
       "    <tr>\n",
       "      <th>cDC1</th>\n",
       "      <td>24</td>\n",
       "      <td>35</td>\n",
       "    </tr>\n",
       "    <tr>\n",
       "      <th>cDC2</th>\n",
       "      <td>116</td>\n",
       "      <td>146</td>\n",
       "    </tr>\n",
       "    <tr>\n",
       "      <th>Endothelial</th>\n",
       "      <td>13</td>\n",
       "      <td>107</td>\n",
       "    </tr>\n",
       "    <tr>\n",
       "      <th>Mast Cells</th>\n",
       "      <td>25</td>\n",
       "      <td>81</td>\n",
       "    </tr>\n",
       "    <tr>\n",
       "      <th>Neutrophils</th>\n",
       "      <td>31</td>\n",
       "      <td>220</td>\n",
       "    </tr>\n",
       "    <tr>\n",
       "      <th>pDCs</th>\n",
       "      <td>71</td>\n",
       "      <td>82</td>\n",
       "    </tr>\n",
       "    <tr>\n",
       "      <th>Plasmablasts</th>\n",
       "      <td>148</td>\n",
       "      <td>376</td>\n",
       "    </tr>\n",
       "    <tr>\n",
       "      <th>Prolif.</th>\n",
       "      <td>171</td>\n",
       "      <td>210</td>\n",
       "    </tr>\n",
       "  </tbody>\n",
       "</table>\n",
       "</div>"
      ],
      "text/plain": [
       "type                       sorted  unsorted\n",
       "fine_clustering                            \n",
       "C1Q+ Macro.                   120       836\n",
       "CD4+ Teff                     409       529\n",
       "CD4+ Tnaive                  1913      2534\n",
       "CD4+ Treg                     290       359\n",
       "CD4+/CD8+ Trm/exh             128       138\n",
       "CD8+ Tem                     1980      2585\n",
       "CD8+ Temra                    278       350\n",
       "CD8+ Tnaive                   104       102\n",
       "CD8+ Trm                      418       595\n",
       "CD16+ NK                      681       692\n",
       "CD16- NK                      366       341\n",
       "Classical Monocytes           201       456\n",
       "Intermed. Monocytes            72       254\n",
       "Naive B Cell                  129        91\n",
       "Non. Switched Mem. B Cell      55        67\n",
       "SMCs                           16       298\n",
       "Switched Mem. B Cell          212       133\n",
       "TREM2+ Macro.                  21       262\n",
       "Trans. B Cell                 213       209\n",
       "cDC1                           24        35\n",
       "cDC2                          116       146\n",
       "Endothelial                    13       107\n",
       "Mast Cells                     25        81\n",
       "Neutrophils                    31       220\n",
       "pDCs                           71        82\n",
       "Plasmablasts                  148       376\n",
       "Prolif.                       171       210"
      ]
     },
     "execution_count": 8,
     "metadata": {},
     "output_type": "execute_result"
    }
   ],
   "source": [
    "pd.crosstab(adata.obs['fine_clustering'],\n",
    "           adata.obs['type'])"
   ]
  },
  {
   "cell_type": "code",
   "execution_count": 9,
   "id": "a7c9a453",
   "metadata": {},
   "outputs": [],
   "source": [
    "##DOWNSAMPLING CODE##\n",
    "# Assume 'adata' is your original anndata object and 'condition' is the key in `adata.obs` indicating treatment conditions\n",
    "condition_col = 'type'\n",
    "cell_type_col = 'fine_clustering'\n",
    "\n",
    "# Set the random seed for reproducibility\n",
    "#Used 87 previously | 837 2nd sample\n",
    "random_seed = 87\n",
    "np.random.seed(random_seed)\n",
    "\n",
    "# Split the data into two conditions\n",
    "adata_cond1 = adata[adata.obs[condition_col] == 'sorted']\n",
    "adata_cond2 = adata[adata.obs[condition_col] == 'unsorted']\n",
    "\n",
    "# Get unique cell types\n",
    "cell_types = adata.obs[cell_type_col].unique()\n",
    "\n",
    "# Downsample for each cell type\n",
    "downsampled_cells = []\n",
    "for cell_type in cell_types:\n",
    "    # Get cells of this type from each condition\n",
    "    cells_cond1 = adata_cond1[adata_cond1.obs[cell_type_col] == cell_type]\n",
    "    cells_cond2 = adata_cond2[adata_cond2.obs[cell_type_col] == cell_type]\n",
    "    \n",
    "    # Determine the number of cells to sample (min count from both conditions)\n",
    "    n_cells = min(cells_cond1.shape[0], cells_cond2.shape[0])\n",
    "    \n",
    "    # Randomly sample cells\n",
    "    sampled_cells_cond1 = cells_cond1[np.random.choice(cells_cond1.shape[0], n_cells, replace=False)]\n",
    "    sampled_cells_cond2 = cells_cond2[np.random.choice(cells_cond2.shape[0], n_cells, replace=False)]\n",
    "    \n",
    "    # Append to the list\n",
    "    downsampled_cells.append(sampled_cells_cond1)\n",
    "    downsampled_cells.append(sampled_cells_cond2)\n",
    "\n",
    "# Concatenate all downsampled cells into a new anndata object\n",
    "downsampled_adata = ad.concat(downsampled_cells)"
   ]
  },
  {
   "cell_type": "code",
   "execution_count": 10,
   "id": "605fdb69",
   "metadata": {},
   "outputs": [
    {
     "data": {
      "text/plain": [
       "type\n",
       "sorted      8057\n",
       "unsorted    8057\n",
       "Name: count, dtype: int64"
      ]
     },
     "execution_count": 10,
     "metadata": {},
     "output_type": "execute_result"
    }
   ],
   "source": [
    "downsampled_adata.obs['type'].value_counts()"
   ]
  },
  {
   "cell_type": "code",
   "execution_count": 11,
   "id": "e15eb5b9",
   "metadata": {},
   "outputs": [
    {
     "data": {
      "text/html": [
       "<div>\n",
       "<style scoped>\n",
       "    .dataframe tbody tr th:only-of-type {\n",
       "        vertical-align: middle;\n",
       "    }\n",
       "\n",
       "    .dataframe tbody tr th {\n",
       "        vertical-align: top;\n",
       "    }\n",
       "\n",
       "    .dataframe thead th {\n",
       "        text-align: right;\n",
       "    }\n",
       "</style>\n",
       "<table border=\"1\" class=\"dataframe\">\n",
       "  <thead>\n",
       "    <tr style=\"text-align: right;\">\n",
       "      <th>type</th>\n",
       "      <th>sorted</th>\n",
       "      <th>unsorted</th>\n",
       "    </tr>\n",
       "    <tr>\n",
       "      <th>fine_clustering</th>\n",
       "      <th></th>\n",
       "      <th></th>\n",
       "    </tr>\n",
       "  </thead>\n",
       "  <tbody>\n",
       "    <tr>\n",
       "      <th>C1Q+ Macro.</th>\n",
       "      <td>120</td>\n",
       "      <td>120</td>\n",
       "    </tr>\n",
       "    <tr>\n",
       "      <th>CD4+ Teff</th>\n",
       "      <td>409</td>\n",
       "      <td>409</td>\n",
       "    </tr>\n",
       "    <tr>\n",
       "      <th>CD4+ Tnaive</th>\n",
       "      <td>1913</td>\n",
       "      <td>1913</td>\n",
       "    </tr>\n",
       "    <tr>\n",
       "      <th>CD4+ Treg</th>\n",
       "      <td>290</td>\n",
       "      <td>290</td>\n",
       "    </tr>\n",
       "    <tr>\n",
       "      <th>CD4+/CD8+ Trm/exh</th>\n",
       "      <td>128</td>\n",
       "      <td>128</td>\n",
       "    </tr>\n",
       "    <tr>\n",
       "      <th>CD8+ Tem</th>\n",
       "      <td>1980</td>\n",
       "      <td>1980</td>\n",
       "    </tr>\n",
       "    <tr>\n",
       "      <th>CD8+ Temra</th>\n",
       "      <td>278</td>\n",
       "      <td>278</td>\n",
       "    </tr>\n",
       "    <tr>\n",
       "      <th>CD8+ Tnaive</th>\n",
       "      <td>102</td>\n",
       "      <td>102</td>\n",
       "    </tr>\n",
       "    <tr>\n",
       "      <th>CD8+ Trm</th>\n",
       "      <td>418</td>\n",
       "      <td>418</td>\n",
       "    </tr>\n",
       "    <tr>\n",
       "      <th>CD16+ NK</th>\n",
       "      <td>681</td>\n",
       "      <td>681</td>\n",
       "    </tr>\n",
       "    <tr>\n",
       "      <th>CD16- NK</th>\n",
       "      <td>341</td>\n",
       "      <td>341</td>\n",
       "    </tr>\n",
       "    <tr>\n",
       "      <th>Classical Monocytes</th>\n",
       "      <td>201</td>\n",
       "      <td>201</td>\n",
       "    </tr>\n",
       "    <tr>\n",
       "      <th>Endothelial</th>\n",
       "      <td>13</td>\n",
       "      <td>13</td>\n",
       "    </tr>\n",
       "    <tr>\n",
       "      <th>Intermed. Monocytes</th>\n",
       "      <td>72</td>\n",
       "      <td>72</td>\n",
       "    </tr>\n",
       "    <tr>\n",
       "      <th>Mast Cells</th>\n",
       "      <td>25</td>\n",
       "      <td>25</td>\n",
       "    </tr>\n",
       "    <tr>\n",
       "      <th>Naive B Cell</th>\n",
       "      <td>91</td>\n",
       "      <td>91</td>\n",
       "    </tr>\n",
       "    <tr>\n",
       "      <th>Neutrophils</th>\n",
       "      <td>31</td>\n",
       "      <td>31</td>\n",
       "    </tr>\n",
       "    <tr>\n",
       "      <th>Non. Switched Mem. B Cell</th>\n",
       "      <td>55</td>\n",
       "      <td>55</td>\n",
       "    </tr>\n",
       "    <tr>\n",
       "      <th>Plasmablasts</th>\n",
       "      <td>148</td>\n",
       "      <td>148</td>\n",
       "    </tr>\n",
       "    <tr>\n",
       "      <th>Prolif.</th>\n",
       "      <td>171</td>\n",
       "      <td>171</td>\n",
       "    </tr>\n",
       "    <tr>\n",
       "      <th>SMCs</th>\n",
       "      <td>16</td>\n",
       "      <td>16</td>\n",
       "    </tr>\n",
       "    <tr>\n",
       "      <th>Switched Mem. B Cell</th>\n",
       "      <td>133</td>\n",
       "      <td>133</td>\n",
       "    </tr>\n",
       "    <tr>\n",
       "      <th>TREM2+ Macro.</th>\n",
       "      <td>21</td>\n",
       "      <td>21</td>\n",
       "    </tr>\n",
       "    <tr>\n",
       "      <th>Trans. B Cell</th>\n",
       "      <td>209</td>\n",
       "      <td>209</td>\n",
       "    </tr>\n",
       "    <tr>\n",
       "      <th>cDC1</th>\n",
       "      <td>24</td>\n",
       "      <td>24</td>\n",
       "    </tr>\n",
       "    <tr>\n",
       "      <th>cDC2</th>\n",
       "      <td>116</td>\n",
       "      <td>116</td>\n",
       "    </tr>\n",
       "    <tr>\n",
       "      <th>pDCs</th>\n",
       "      <td>71</td>\n",
       "      <td>71</td>\n",
       "    </tr>\n",
       "  </tbody>\n",
       "</table>\n",
       "</div>"
      ],
      "text/plain": [
       "type                       sorted  unsorted\n",
       "fine_clustering                            \n",
       "C1Q+ Macro.                   120       120\n",
       "CD4+ Teff                     409       409\n",
       "CD4+ Tnaive                  1913      1913\n",
       "CD4+ Treg                     290       290\n",
       "CD4+/CD8+ Trm/exh             128       128\n",
       "CD8+ Tem                     1980      1980\n",
       "CD8+ Temra                    278       278\n",
       "CD8+ Tnaive                   102       102\n",
       "CD8+ Trm                      418       418\n",
       "CD16+ NK                      681       681\n",
       "CD16- NK                      341       341\n",
       "Classical Monocytes           201       201\n",
       "Endothelial                    13        13\n",
       "Intermed. Monocytes            72        72\n",
       "Mast Cells                     25        25\n",
       "Naive B Cell                   91        91\n",
       "Neutrophils                    31        31\n",
       "Non. Switched Mem. B Cell      55        55\n",
       "Plasmablasts                  148       148\n",
       "Prolif.                       171       171\n",
       "SMCs                           16        16\n",
       "Switched Mem. B Cell          133       133\n",
       "TREM2+ Macro.                  21        21\n",
       "Trans. B Cell                 209       209\n",
       "cDC1                           24        24\n",
       "cDC2                          116       116\n",
       "pDCs                           71        71"
      ]
     },
     "execution_count": 11,
     "metadata": {},
     "output_type": "execute_result"
    }
   ],
   "source": [
    "pd.crosstab(downsampled_adata.obs['fine_clustering'],\n",
    "           downsampled_adata.obs['type'])"
   ]
  },
  {
   "cell_type": "code",
   "execution_count": 12,
   "id": "8019ca3d",
   "metadata": {},
   "outputs": [],
   "source": [
    "adata = downsampled_adata.copy()"
   ]
  },
  {
   "cell_type": "code",
   "execution_count": 13,
   "id": "80f34311",
   "metadata": {},
   "outputs": [
    {
     "data": {
      "text/plain": [
       "AnnData object with n_obs × n_vars = 16114 × 30671\n",
       "    obs: 'sample', 'species', 'gene_count', 'tscp_count', 'mread_count', 'bc1_wind', 'bc2_wind', 'bc3_wind', 'bc1_well', 'bc2_well', 'bc3_well', 'n_counts', 'n_genes', 'n_genes_by_counts', 'log1p_n_genes_by_counts', 'total_counts', 'log1p_total_counts', 'pct_counts_in_top_20_genes', 'total_counts_mt', 'log1p_total_counts_mt', 'pct_counts_mt', 'total_counts_ribo', 'log1p_total_counts_ribo', 'pct_counts_ribo', 'total_counts_hb', 'log1p_total_counts_hb', 'pct_counts_hb', 'outlier', 'mt_outlier', 'leiden', 'predicted_labels', 'majority_voting', 'conf_score', 'over_clustering', 'celltypist_cell_label_coarse', 'celltypist_conf_score_coarse', 'celltypist_cell_label_fine', 'celltypist_conf_score_fine', 'type', 'plaque', 'initial_clustering', 'fine_temp', 'fine_clustering', 'fine_temp2', 'fine_temp3', 'fine_temp4', 'fine_temp5', 'pie_clustering'\n",
       "    obsm: 'X_pca', 'X_pca_harmony', 'X_umap', 'ora_estimate', 'ora_pvals'"
      ]
     },
     "execution_count": 13,
     "metadata": {},
     "output_type": "execute_result"
    }
   ],
   "source": [
    "adata"
   ]
  },
  {
   "cell_type": "markdown",
   "id": "ac362680",
   "metadata": {},
   "source": [
    "### Sorted"
   ]
  },
  {
   "cell_type": "code",
   "execution_count": 14,
   "id": "eb94a0c1",
   "metadata": {},
   "outputs": [],
   "source": [
    "#Subset data based on sorting and save log-normalised files to drive:\n",
    "bdata = adata[adata.obs['type']=='sorted'].copy()"
   ]
  },
  {
   "cell_type": "code",
   "execution_count": 15,
   "id": "b1610eeb",
   "metadata": {},
   "outputs": [
    {
     "data": {
      "text/plain": [
       "AnnData object with n_obs × n_vars = 8057 × 30671"
      ]
     },
     "execution_count": 15,
     "metadata": {},
     "output_type": "execute_result"
    }
   ],
   "source": [
    "#Write required files to cpdb analysis folder to use later:\n",
    "#Make Data object - only requies the expression matrix:\n",
    "adata1 = sc.AnnData(bdata.X, obs=pd.DataFrame(index=bdata.obs.index),\n",
    "                   var=pd.DataFrame(index=bdata.var.index))\n",
    "adata1.write_h5ad(data_path + \"cpdb/sorted_log_norm_down.h5ad\", compression='gzip')\n",
    "adata1"
   ]
  },
  {
   "cell_type": "code",
   "execution_count": 16,
   "id": "acd72b91",
   "metadata": {},
   "outputs": [],
   "source": [
    "#Write required files to cpdb analysis folder to use later:\n",
    "#Make meatadata object - only requies the expression matrix:\n",
    "df_meta = pd.DataFrame(data={'Cell':list(bdata[bdata.obs.index].obs.index),\n",
    "                             'cell_type':[ i for i in bdata[adata1.obs.index].obs['fine_clustering']]\n",
    "                            })\n",
    "df_meta.set_index('Cell', inplace=True)\n",
    "df_meta.to_csv(data_path + 'cpdb/sorted_meta_down.tsv', sep = '\\t')"
   ]
  },
  {
   "cell_type": "code",
   "execution_count": 17,
   "id": "3d9ca33d",
   "metadata": {},
   "outputs": [],
   "source": [
    "#Define variables for cpdb:\n",
    "cpdb_file_path = '/home/jo388/rds/hpc-work/dependencies/cpdb/cellphonedb_v5.0.zip'\n",
    "meta_file_path = data_path + '/cpdb/sorted_meta_down.tsv'\n",
    "counts_file_path = data_path + '/cpdb/sorted_log_norm_down.h5ad'\n",
    "microenvs_file_path = None\n",
    "active_tf_path = None\n",
    "out_path = data_path + '/cpdb/results'"
   ]
  },
  {
   "cell_type": "code",
   "execution_count": 18,
   "id": "0bc92855",
   "metadata": {},
   "outputs": [
    {
     "name": "stdout",
     "output_type": "stream",
     "text": [
      "Reading user files...\n",
      "The following user files were loaded successfully:\n",
      "/home/jo388/rds/rds-zhao-group-HvBBlpwx4dc/ELLIPSE/sort_unsort/data//cpdb/sorted_log_norm_down.h5ad\n",
      "/home/jo388/rds/rds-zhao-group-HvBBlpwx4dc/ELLIPSE/sort_unsort/data//cpdb/sorted_meta_down.tsv\n",
      "[ ][CORE][04/02/25-19:37:40][INFO] [Cluster Statistical Analysis] Threshold:0.1 Iterations:1000 Debug-seed:42 Threads:10 Precision:3\n",
      "[ ][CORE][04/02/25-19:37:40][WARNING] Debug random seed enabled. Set to 42\n",
      "[ ][CORE][04/02/25-19:37:41][INFO] Running Real Analysis\n",
      "[ ][CORE][04/02/25-19:37:41][INFO] Running Statistical Analysis\n"
     ]
    },
    {
     "name": "stderr",
     "output_type": "stream",
     "text": [
      "100%|██████████| 1000/1000 [00:57<00:00, 17.53it/s]"
     ]
    },
    {
     "name": "stdout",
     "output_type": "stream",
     "text": [
      "[ ][CORE][04/02/25-19:38:38][INFO] Building Pvalues result\n"
     ]
    },
    {
     "name": "stderr",
     "output_type": "stream",
     "text": [
      "\n"
     ]
    },
    {
     "name": "stdout",
     "output_type": "stream",
     "text": [
      "[ ][CORE][04/02/25-19:38:39][INFO] Building results\n",
      "[ ][CORE][04/02/25-19:38:39][INFO] Scoring interactions: Filtering genes per cell type..\n"
     ]
    },
    {
     "name": "stderr",
     "output_type": "stream",
     "text": [
      "100%|██████████| 27/27 [00:00<00:00, 206.14it/s]"
     ]
    },
    {
     "name": "stdout",
     "output_type": "stream",
     "text": [
      "[ ][CORE][04/02/25-19:38:40][INFO] Scoring interactions: Calculating mean expression of each gene per group/cell type..\n"
     ]
    },
    {
     "name": "stderr",
     "output_type": "stream",
     "text": [
      "\n",
      "100%|██████████| 27/27 [00:00<00:00, 727.71it/s]\n"
     ]
    },
    {
     "name": "stdout",
     "output_type": "stream",
     "text": [
      "[ ][CORE][04/02/25-19:38:40][INFO] Scoring interactions: Calculating scores for all interactions and cell types..\n"
     ]
    },
    {
     "name": "stderr",
     "output_type": "stream",
     "text": [
      "100%|██████████| 729/729 [00:36<00:00, 20.15it/s]\n"
     ]
    },
    {
     "name": "stdout",
     "output_type": "stream",
     "text": [
      "Saved deconvoluted to /home/jo388/rds/rds-zhao-group-HvBBlpwx4dc/ELLIPSE/sort_unsort/data//cpdb/results/statistical_analysis_deconvoluted_sorted_down.txt\n",
      "Saved deconvoluted_percents to /home/jo388/rds/rds-zhao-group-HvBBlpwx4dc/ELLIPSE/sort_unsort/data//cpdb/results/statistical_analysis_deconvoluted_percents_sorted_down.txt\n",
      "Saved means to /home/jo388/rds/rds-zhao-group-HvBBlpwx4dc/ELLIPSE/sort_unsort/data//cpdb/results/statistical_analysis_means_sorted_down.txt\n",
      "Saved pvalues to /home/jo388/rds/rds-zhao-group-HvBBlpwx4dc/ELLIPSE/sort_unsort/data//cpdb/results/statistical_analysis_pvalues_sorted_down.txt\n",
      "Saved significant_means to /home/jo388/rds/rds-zhao-group-HvBBlpwx4dc/ELLIPSE/sort_unsort/data//cpdb/results/statistical_analysis_significant_means_sorted_down.txt\n",
      "Saved interaction_scores to /home/jo388/rds/rds-zhao-group-HvBBlpwx4dc/ELLIPSE/sort_unsort/data//cpdb/results/statistical_analysis_interaction_scores_sorted_down.txt\n"
     ]
    }
   ],
   "source": [
    "cpdb_results = cpdb_statistical_analysis_method.call(\n",
    "    cpdb_file_path = cpdb_file_path,                 # mandatory: CellphoneDB database zip file.\n",
    "    meta_file_path = meta_file_path,                 # mandatory: tsv file defining barcodes to cell label.\n",
    "    counts_file_path = counts_file_path,             # mandatory: normalized count matrix - a path to the counts file, or an in-memory AnnData object\n",
    "    counts_data = 'hgnc_symbol',                     # defines the gene annotation in counts matrix.\n",
    "    active_tfs_file_path = active_tf_path,           # optional: defines cell types and their active TFs.\n",
    "    microenvs_file_path = microenvs_file_path,       # optional (default: None): defines cells per microenvironment.\n",
    "    score_interactions = True,                       # optional: whether to score interactions or not. \n",
    "    iterations = 1000,                               # denotes the number of shufflings performed in the analysis.\n",
    "    threshold = 0.1,                                 # defines the min % of cells expressing a gene for this to be employed in the analysis.\n",
    "    threads = 10,                                     # number of threads to use in the analysis.\n",
    "    debug_seed = 42,                                 # debug randome seed. To disable >=0.\n",
    "    result_precision = 3,                            # Sets the rounding for the mean values in significan_means.\n",
    "    pvalue = 0.05,                                   # P-value threshold to employ for significance.\n",
    "    subsampling = False,                             # To enable subsampling the data (geometri sketching).\n",
    "    subsampling_log = False,                         # (mandatory) enable subsampling log1p for non log-transformed data inputs.\n",
    "    subsampling_num_pc = 100,                        # Number of componets to subsample via geometric skectching (dafault: 100).\n",
    "    subsampling_num_cells = 1000,                    # Number of cells to subsample (integer) (default: 1/3 of the dataset).\n",
    "    separator = '|',                                 # Sets the string to employ to separate cells in the results dataframes \"cellA|CellB\".\n",
    "    debug = False,                                   # Saves all intermediate tables employed during the analysis in pkl format.\n",
    "    output_path = out_path,                          # Path to save results.\n",
    "    output_suffix = 'sorted_down'                    # Replaces the timestamp in the output files by a user defined string in the  (default: None).\n",
    "    )"
   ]
  },
  {
   "cell_type": "code",
   "execution_count": 19,
   "id": "8d36faeb",
   "metadata": {},
   "outputs": [],
   "source": [
    "#Save cpdb_results object to import later for analysis:\n",
    "import pickle\n",
    "with open (data_path + 'cpdb/cpdb_sorted_data_down.pkl', 'wb') as pkl_file:\n",
    "    pickle.dump(cpdb_results, pkl_file)"
   ]
  },
  {
   "cell_type": "markdown",
   "id": "69dbc9b4",
   "metadata": {},
   "source": [
    "### Filtered:"
   ]
  },
  {
   "cell_type": "code",
   "execution_count": 20,
   "id": "a79d7649",
   "metadata": {},
   "outputs": [],
   "source": [
    "#Now remove SMC and endothelial cells as these are enriched in bead sorted compared to facs sorted:\n",
    "bdata = bdata[~bdata.obs['fine_clustering'].isin(['Endothelial','SMCs'])]"
   ]
  },
  {
   "cell_type": "code",
   "execution_count": 21,
   "id": "d7cbd6cb",
   "metadata": {},
   "outputs": [
    {
     "data": {
      "text/plain": [
       "AnnData object with n_obs × n_vars = 8028 × 30671"
      ]
     },
     "execution_count": 21,
     "metadata": {},
     "output_type": "execute_result"
    }
   ],
   "source": [
    "#Write required files to cpdb analysis folder to use later:\n",
    "#Make Data object - only requies the expression matrix:\n",
    "adata1 = sc.AnnData(bdata.X, obs=pd.DataFrame(index=bdata.obs.index),\n",
    "                   var=pd.DataFrame(index=bdata.var.index))\n",
    "adata1.write_h5ad(data_path + \"cpdb/sorted_log_norm_filtered_down.h5ad\", compression='gzip')\n",
    "adata1"
   ]
  },
  {
   "cell_type": "code",
   "execution_count": 22,
   "id": "af12f9ba",
   "metadata": {},
   "outputs": [],
   "source": [
    "#Write required files to cpdb analysis folder to use later:\n",
    "#Make meatadata object - only requies the expression matrix:\n",
    "df_meta = pd.DataFrame(data={'Cell':list(bdata[bdata.obs.index].obs.index),\n",
    "                             'cell_type':[ i for i in bdata[adata1.obs.index].obs['fine_clustering']]\n",
    "                            })\n",
    "df_meta.set_index('Cell', inplace=True)\n",
    "df_meta.to_csv(data_path + 'cpdb/sorted_meta_filtered_down.tsv', sep = '\\t')"
   ]
  },
  {
   "cell_type": "code",
   "execution_count": 23,
   "id": "6cf1b2fa",
   "metadata": {},
   "outputs": [],
   "source": [
    "#Define variables for cpdb:\n",
    "cpdb_file_path = '/home/jo388/rds/hpc-work/dependencies/cpdb/cellphonedb_v5.0.zip'\n",
    "meta_file_path = data_path + '/cpdb/sorted_meta_filtered_down.tsv'\n",
    "counts_file_path = data_path + '/cpdb/sorted_log_norm_filtered_down.h5ad'\n",
    "microenvs_file_path = None\n",
    "active_tf_path = None\n",
    "out_path = data_path + '/cpdb/results'"
   ]
  },
  {
   "cell_type": "code",
   "execution_count": 24,
   "id": "154507cc",
   "metadata": {},
   "outputs": [
    {
     "name": "stdout",
     "output_type": "stream",
     "text": [
      "Reading user files...\n",
      "The following user files were loaded successfully:\n",
      "/home/jo388/rds/rds-zhao-group-HvBBlpwx4dc/ELLIPSE/sort_unsort/data//cpdb/sorted_log_norm_filtered_down.h5ad\n",
      "/home/jo388/rds/rds-zhao-group-HvBBlpwx4dc/ELLIPSE/sort_unsort/data//cpdb/sorted_meta_filtered_down.tsv\n",
      "[ ][CORE][04/02/25-19:39:22][INFO] [Cluster Statistical Analysis] Threshold:0.1 Iterations:1000 Debug-seed:42 Threads:10 Precision:3\n",
      "[ ][CORE][04/02/25-19:39:22][WARNING] Debug random seed enabled. Set to 42\n",
      "[ ][CORE][04/02/25-19:39:22][INFO] Running Real Analysis\n",
      "[ ][CORE][04/02/25-19:39:22][INFO] Running Statistical Analysis\n"
     ]
    },
    {
     "name": "stderr",
     "output_type": "stream",
     "text": [
      "100%|██████████| 1000/1000 [00:54<00:00, 18.22it/s]"
     ]
    },
    {
     "name": "stdout",
     "output_type": "stream",
     "text": [
      "[ ][CORE][04/02/25-19:40:17][INFO] Building Pvalues result\n"
     ]
    },
    {
     "name": "stderr",
     "output_type": "stream",
     "text": [
      "\n"
     ]
    },
    {
     "name": "stdout",
     "output_type": "stream",
     "text": [
      "[ ][CORE][04/02/25-19:40:18][INFO] Building results\n",
      "[ ][CORE][04/02/25-19:40:18][INFO] Scoring interactions: Filtering genes per cell type..\n"
     ]
    },
    {
     "name": "stderr",
     "output_type": "stream",
     "text": [
      "100%|██████████| 25/25 [00:00<00:00, 228.11it/s]"
     ]
    },
    {
     "name": "stdout",
     "output_type": "stream",
     "text": [
      "[ ][CORE][04/02/25-19:40:19][INFO] Scoring interactions: Calculating mean expression of each gene per group/cell type..\n"
     ]
    },
    {
     "name": "stderr",
     "output_type": "stream",
     "text": [
      "\n",
      "100%|██████████| 25/25 [00:00<00:00, 678.19it/s]\n"
     ]
    },
    {
     "name": "stdout",
     "output_type": "stream",
     "text": [
      "[ ][CORE][04/02/25-19:40:19][INFO] Scoring interactions: Calculating scores for all interactions and cell types..\n"
     ]
    },
    {
     "name": "stderr",
     "output_type": "stream",
     "text": [
      "100%|██████████| 625/625 [00:29<00:00, 21.18it/s]\n"
     ]
    },
    {
     "name": "stdout",
     "output_type": "stream",
     "text": [
      "Saved deconvoluted to /home/jo388/rds/rds-zhao-group-HvBBlpwx4dc/ELLIPSE/sort_unsort/data//cpdb/results/statistical_analysis_deconvoluted_sorted_filtered_down.txt\n",
      "Saved deconvoluted_percents to /home/jo388/rds/rds-zhao-group-HvBBlpwx4dc/ELLIPSE/sort_unsort/data//cpdb/results/statistical_analysis_deconvoluted_percents_sorted_filtered_down.txt\n",
      "Saved means to /home/jo388/rds/rds-zhao-group-HvBBlpwx4dc/ELLIPSE/sort_unsort/data//cpdb/results/statistical_analysis_means_sorted_filtered_down.txt\n",
      "Saved pvalues to /home/jo388/rds/rds-zhao-group-HvBBlpwx4dc/ELLIPSE/sort_unsort/data//cpdb/results/statistical_analysis_pvalues_sorted_filtered_down.txt\n",
      "Saved significant_means to /home/jo388/rds/rds-zhao-group-HvBBlpwx4dc/ELLIPSE/sort_unsort/data//cpdb/results/statistical_analysis_significant_means_sorted_filtered_down.txt\n",
      "Saved interaction_scores to /home/jo388/rds/rds-zhao-group-HvBBlpwx4dc/ELLIPSE/sort_unsort/data//cpdb/results/statistical_analysis_interaction_scores_sorted_filtered_down.txt\n"
     ]
    }
   ],
   "source": [
    "cpdb_results = cpdb_statistical_analysis_method.call(\n",
    "    cpdb_file_path = cpdb_file_path,                 # mandatory: CellphoneDB database zip file.\n",
    "    meta_file_path = meta_file_path,                 # mandatory: tsv file defining barcodes to cell label.\n",
    "    counts_file_path = counts_file_path,             # mandatory: normalized count matrix - a path to the counts file, or an in-memory AnnData object\n",
    "    counts_data = 'hgnc_symbol',                     # defines the gene annotation in counts matrix.\n",
    "    active_tfs_file_path = active_tf_path,           # optional: defines cell types and their active TFs.\n",
    "    microenvs_file_path = microenvs_file_path,       # optional (default: None): defines cells per microenvironment.\n",
    "    score_interactions = True,                       # optional: whether to score interactions or not. \n",
    "    iterations = 1000,                               # denotes the number of shufflings performed in the analysis.\n",
    "    threshold = 0.1,                                 # defines the min % of cells expressing a gene for this to be employed in the analysis.\n",
    "    threads = 10,                                     # number of threads to use in the analysis.\n",
    "    debug_seed = 42,                                 # debug randome seed. To disable >=0.\n",
    "    result_precision = 3,                            # Sets the rounding for the mean values in significan_means.\n",
    "    pvalue = 0.05,                                   # P-value threshold to employ for significance.\n",
    "    subsampling = False,                             # To enable subsampling the data (geometri sketching).\n",
    "    subsampling_log = False,                         # (mandatory) enable subsampling log1p for non log-transformed data inputs.\n",
    "    subsampling_num_pc = 100,                        # Number of componets to subsample via geometric skectching (dafault: 100).\n",
    "    subsampling_num_cells = 1000,                    # Number of cells to subsample (integer) (default: 1/3 of the dataset).\n",
    "    separator = '|',                                 # Sets the string to employ to separate cells in the results dataframes \"cellA|CellB\".\n",
    "    debug = False,                                   # Saves all intermediate tables employed during the analysis in pkl format.\n",
    "    output_path = out_path,                          # Path to save results.\n",
    "    output_suffix = 'sorted_filtered_down'                # Replaces the timestamp in the output files by a user defined string in the  (default: None).\n",
    "    )"
   ]
  },
  {
   "cell_type": "code",
   "execution_count": 25,
   "id": "eba1c651",
   "metadata": {},
   "outputs": [],
   "source": [
    "#Save cpdb_results object to import later for analysis:\n",
    "import pickle\n",
    "with open (data_path + 'cpdb/cpdb_sorted_data_filtered_down.pkl', 'wb') as pkl_file:\n",
    "    pickle.dump(cpdb_results, pkl_file)"
   ]
  },
  {
   "cell_type": "markdown",
   "id": "bf3f0e7a",
   "metadata": {},
   "source": [
    "### Unsorted:"
   ]
  },
  {
   "cell_type": "code",
   "execution_count": 26,
   "id": "27714eba",
   "metadata": {},
   "outputs": [],
   "source": [
    "#Subset data based on sorting and save log-normalised files to drive:\n",
    "bdata = adata[adata.obs['type']=='unsorted'].copy()"
   ]
  },
  {
   "cell_type": "code",
   "execution_count": 27,
   "id": "e9f8e591",
   "metadata": {},
   "outputs": [
    {
     "data": {
      "text/plain": [
       "AnnData object with n_obs × n_vars = 8057 × 30671"
      ]
     },
     "execution_count": 27,
     "metadata": {},
     "output_type": "execute_result"
    }
   ],
   "source": [
    "#Write required files to cpdb analysis folder to use later:\n",
    "#Make Data object - only requies the expression matrix:\n",
    "adata1 = sc.AnnData(bdata.X, obs=pd.DataFrame(index=bdata.obs.index),\n",
    "                   var=pd.DataFrame(index=bdata.var.index))\n",
    "adata1.write_h5ad(data_path + \"cpdb/unsorted_log_norm_down.h5ad\", compression='gzip')\n",
    "adata1"
   ]
  },
  {
   "cell_type": "code",
   "execution_count": 28,
   "id": "c0d9cb5e",
   "metadata": {},
   "outputs": [],
   "source": [
    "#Write required files to cpdb analysis folder to use later:\n",
    "#Make meatadata object - only requies the expression matrix:\n",
    "df_meta = pd.DataFrame(data={'Cell':list(bdata[bdata.obs.index].obs.index),\n",
    "                             'cell_type':[ i for i in bdata[adata1.obs.index].obs['fine_clustering']]\n",
    "                            })\n",
    "df_meta.set_index('Cell', inplace=True)\n",
    "df_meta.to_csv(data_path + 'cpdb/unsorted_meta_down.tsv', sep = '\\t')"
   ]
  },
  {
   "cell_type": "code",
   "execution_count": 29,
   "id": "2d6e668f",
   "metadata": {},
   "outputs": [],
   "source": [
    "#Define variables for cpdb:\n",
    "cpdb_file_path = '/home/jo388/rds/hpc-work/dependencies/cpdb/cellphonedb_v5.0.zip'\n",
    "meta_file_path = data_path + '/cpdb/unsorted_meta_down.tsv'\n",
    "counts_file_path = data_path + '/cpdb/unsorted_log_norm_down.h5ad'\n",
    "microenvs_file_path = None\n",
    "active_tf_path = None\n",
    "out_path = data_path + '/cpdb/results'"
   ]
  },
  {
   "cell_type": "code",
   "execution_count": 30,
   "id": "33e24cd3",
   "metadata": {},
   "outputs": [
    {
     "name": "stdout",
     "output_type": "stream",
     "text": [
      "Reading user files...\n",
      "The following user files were loaded successfully:\n",
      "/home/jo388/rds/rds-zhao-group-HvBBlpwx4dc/ELLIPSE/sort_unsort/data//cpdb/unsorted_log_norm_down.h5ad\n",
      "/home/jo388/rds/rds-zhao-group-HvBBlpwx4dc/ELLIPSE/sort_unsort/data//cpdb/unsorted_meta_down.tsv\n",
      "[ ][CORE][04/02/25-19:40:54][INFO] [Cluster Statistical Analysis] Threshold:0.1 Iterations:1000 Debug-seed:42 Threads:10 Precision:3\n",
      "[ ][CORE][04/02/25-19:40:54][WARNING] Debug random seed enabled. Set to 42\n",
      "[ ][CORE][04/02/25-19:40:54][INFO] Running Real Analysis\n",
      "[ ][CORE][04/02/25-19:40:55][INFO] Running Statistical Analysis\n"
     ]
    },
    {
     "name": "stderr",
     "output_type": "stream",
     "text": [
      "100%|██████████| 1000/1000 [00:56<00:00, 17.71it/s]"
     ]
    },
    {
     "name": "stdout",
     "output_type": "stream",
     "text": [
      "[ ][CORE][04/02/25-19:41:51][INFO] Building Pvalues result\n"
     ]
    },
    {
     "name": "stderr",
     "output_type": "stream",
     "text": [
      "\n"
     ]
    },
    {
     "name": "stdout",
     "output_type": "stream",
     "text": [
      "[ ][CORE][04/02/25-19:41:52][INFO] Building results\n",
      "[ ][CORE][04/02/25-19:41:52][INFO] Scoring interactions: Filtering genes per cell type..\n"
     ]
    },
    {
     "name": "stderr",
     "output_type": "stream",
     "text": [
      "100%|██████████| 27/27 [00:00<00:00, 230.43it/s]"
     ]
    },
    {
     "name": "stdout",
     "output_type": "stream",
     "text": [
      "[ ][CORE][04/02/25-19:41:53][INFO] Scoring interactions: Calculating mean expression of each gene per group/cell type..\n"
     ]
    },
    {
     "name": "stderr",
     "output_type": "stream",
     "text": [
      "\n",
      "100%|██████████| 27/27 [00:00<00:00, 704.79it/s]\n"
     ]
    },
    {
     "name": "stdout",
     "output_type": "stream",
     "text": [
      "[ ][CORE][04/02/25-19:41:53][INFO] Scoring interactions: Calculating scores for all interactions and cell types..\n"
     ]
    },
    {
     "name": "stderr",
     "output_type": "stream",
     "text": [
      "100%|██████████| 729/729 [00:34<00:00, 21.04it/s]\n"
     ]
    },
    {
     "name": "stdout",
     "output_type": "stream",
     "text": [
      "Saved deconvoluted to /home/jo388/rds/rds-zhao-group-HvBBlpwx4dc/ELLIPSE/sort_unsort/data//cpdb/results/statistical_analysis_deconvoluted_unsorted_down.txt\n",
      "Saved deconvoluted_percents to /home/jo388/rds/rds-zhao-group-HvBBlpwx4dc/ELLIPSE/sort_unsort/data//cpdb/results/statistical_analysis_deconvoluted_percents_unsorted_down.txt\n",
      "Saved means to /home/jo388/rds/rds-zhao-group-HvBBlpwx4dc/ELLIPSE/sort_unsort/data//cpdb/results/statistical_analysis_means_unsorted_down.txt\n",
      "Saved pvalues to /home/jo388/rds/rds-zhao-group-HvBBlpwx4dc/ELLIPSE/sort_unsort/data//cpdb/results/statistical_analysis_pvalues_unsorted_down.txt\n",
      "Saved significant_means to /home/jo388/rds/rds-zhao-group-HvBBlpwx4dc/ELLIPSE/sort_unsort/data//cpdb/results/statistical_analysis_significant_means_unsorted_down.txt\n",
      "Saved interaction_scores to /home/jo388/rds/rds-zhao-group-HvBBlpwx4dc/ELLIPSE/sort_unsort/data//cpdb/results/statistical_analysis_interaction_scores_unsorted_down.txt\n"
     ]
    }
   ],
   "source": [
    "from cellphonedb.src.core.methods import cpdb_statistical_analysis_method\n",
    "\n",
    "cpdb_results = cpdb_statistical_analysis_method.call(\n",
    "    cpdb_file_path = cpdb_file_path,                 # mandatory: CellphoneDB database zip file.\n",
    "    meta_file_path = meta_file_path,                 # mandatory: tsv file defining barcodes to cell label.\n",
    "    counts_file_path = counts_file_path,             # mandatory: normalized count matrix - a path to the counts file, or an in-memory AnnData object\n",
    "    counts_data = 'hgnc_symbol',                     # defines the gene annotation in counts matrix.\n",
    "    active_tfs_file_path = active_tf_path,           # optional: defines cell types and their active TFs.\n",
    "    microenvs_file_path = microenvs_file_path,       # optional (default: None): defines cells per microenvironment.\n",
    "    score_interactions = True,                       # optional: whether to score interactions or not. \n",
    "    iterations = 1000,                               # denotes the number of shufflings performed in the analysis.\n",
    "    threshold = 0.1,                                 # defines the min % of cells expressing a gene for this to be employed in the analysis.\n",
    "    threads = 10,                                    # number of threads to use in the analysis.\n",
    "    debug_seed = 42,                                 # debug randome seed. To disable >=0.\n",
    "    result_precision = 3,                            # Sets the rounding for the mean values in significan_means.\n",
    "    pvalue = 0.05,                                   # P-value threshold to employ for significance.\n",
    "    subsampling = False,                             # To enable subsampling the data (geometri sketching).\n",
    "    subsampling_log = False,                         # (mandatory) enable subsampling log1p for non log-transformed data inputs.\n",
    "    subsampling_num_pc = 100,                        # Number of componets to subsample via geometric skectching (dafault: 100).\n",
    "    subsampling_num_cells = 1000,                    # Number of cells to subsample (integer) (default: 1/3 of the dataset).\n",
    "    separator = '|',                                 # Sets the string to employ to separate cells in the results dataframes \"cellA|CellB\".\n",
    "    debug = False,                                   # Saves all intermediate tables employed during the analysis in pkl format.\n",
    "    output_path = out_path,                          # Path to save results.\n",
    "    output_suffix = 'unsorted_down'                       # Replaces the timestamp in the output files by a user defined string in the  (default: None).\n",
    "    )"
   ]
  },
  {
   "cell_type": "markdown",
   "id": "c0a0b6ac",
   "metadata": {},
   "source": [
    "### Filtered"
   ]
  },
  {
   "cell_type": "code",
   "execution_count": 31,
   "id": "5c386156",
   "metadata": {},
   "outputs": [],
   "source": [
    "#Save cpdb_results object to import later for analysis:\n",
    "import pickle\n",
    "with open (data_path + 'cpdb/cpdb_unsorted_data_down.pkl', 'wb') as pkl_file:\n",
    "    pickle.dump(cpdb_results, pkl_file)"
   ]
  },
  {
   "cell_type": "code",
   "execution_count": 32,
   "id": "b8321569",
   "metadata": {},
   "outputs": [],
   "source": [
    "#Now remove SMC and endothelial cells as these are enriched in bead sorted compared to facs sorted:\n",
    "bdata = bdata[~bdata.obs['fine_clustering'].isin(['Endothelial','SMCs'])]"
   ]
  },
  {
   "cell_type": "code",
   "execution_count": 33,
   "id": "821177ff",
   "metadata": {},
   "outputs": [
    {
     "data": {
      "text/plain": [
       "AnnData object with n_obs × n_vars = 8028 × 30671"
      ]
     },
     "execution_count": 33,
     "metadata": {},
     "output_type": "execute_result"
    }
   ],
   "source": [
    "#Write required files to cpdb analysis folder to use later:\n",
    "#Make Data object - only requies the expression matrix:\n",
    "adata1 = sc.AnnData(bdata.X, obs=pd.DataFrame(index=bdata.obs.index),\n",
    "                   var=pd.DataFrame(index=bdata.var.index))\n",
    "adata1.write_h5ad(data_path + \"cpdb/unsorted_log_norm_filtered_down.h5ad\", compression='gzip')\n",
    "adata1"
   ]
  },
  {
   "cell_type": "code",
   "execution_count": 34,
   "id": "da15cca4",
   "metadata": {},
   "outputs": [],
   "source": [
    "#Write required files to cpdb analysis folder to use later:\n",
    "#Make meatadata object - only requies the expression matrix:\n",
    "df_meta = pd.DataFrame(data={'Cell':list(bdata[bdata.obs.index].obs.index),\n",
    "                             'cell_type':[ i for i in bdata[adata1.obs.index].obs['fine_clustering']]\n",
    "                            })\n",
    "df_meta.set_index('Cell', inplace=True)\n",
    "df_meta.to_csv(data_path + 'cpdb/unsorted_meta_filtered_down.tsv', sep = '\\t')"
   ]
  },
  {
   "cell_type": "code",
   "execution_count": 35,
   "id": "e7d8d4e3",
   "metadata": {},
   "outputs": [],
   "source": [
    "#Define variables for cpdb:\n",
    "cpdb_file_path = '/home/jo388/rds/hpc-work/dependencies/cpdb/cellphonedb_v5.0.zip'\n",
    "meta_file_path = data_path + '/cpdb/unsorted_meta_filtered_down.tsv'\n",
    "counts_file_path = data_path + '/cpdb/unsorted_log_norm_filtered_down.h5ad'\n",
    "microenvs_file_path = None\n",
    "active_tf_path = None\n",
    "out_path = data_path + '/cpdb/results'"
   ]
  },
  {
   "cell_type": "code",
   "execution_count": 36,
   "id": "1ac16fba",
   "metadata": {},
   "outputs": [
    {
     "name": "stdout",
     "output_type": "stream",
     "text": [
      "Reading user files...\n",
      "The following user files were loaded successfully:\n",
      "/home/jo388/rds/rds-zhao-group-HvBBlpwx4dc/ELLIPSE/sort_unsort/data//cpdb/unsorted_log_norm_filtered_down.h5ad\n",
      "/home/jo388/rds/rds-zhao-group-HvBBlpwx4dc/ELLIPSE/sort_unsort/data//cpdb/unsorted_meta_filtered_down.tsv\n",
      "[ ][CORE][04/02/25-19:42:34][INFO] [Cluster Statistical Analysis] Threshold:0.1 Iterations:1000 Debug-seed:42 Threads:10 Precision:3\n",
      "[ ][CORE][04/02/25-19:42:34][WARNING] Debug random seed enabled. Set to 42\n",
      "[ ][CORE][04/02/25-19:42:34][INFO] Running Real Analysis\n",
      "[ ][CORE][04/02/25-19:42:34][INFO] Running Statistical Analysis\n"
     ]
    },
    {
     "name": "stderr",
     "output_type": "stream",
     "text": [
      "100%|██████████| 1000/1000 [00:53<00:00, 18.59it/s]"
     ]
    },
    {
     "name": "stdout",
     "output_type": "stream",
     "text": [
      "[ ][CORE][04/02/25-19:43:28][INFO] Building Pvalues result\n"
     ]
    },
    {
     "name": "stderr",
     "output_type": "stream",
     "text": [
      "\n"
     ]
    },
    {
     "name": "stdout",
     "output_type": "stream",
     "text": [
      "[ ][CORE][04/02/25-19:43:29][INFO] Building results\n",
      "[ ][CORE][04/02/25-19:43:29][INFO] Scoring interactions: Filtering genes per cell type..\n"
     ]
    },
    {
     "name": "stderr",
     "output_type": "stream",
     "text": [
      "100%|██████████| 25/25 [00:00<00:00, 208.92it/s]"
     ]
    },
    {
     "name": "stdout",
     "output_type": "stream",
     "text": [
      "[ ][CORE][04/02/25-19:43:29][INFO] Scoring interactions: Calculating mean expression of each gene per group/cell type..\n"
     ]
    },
    {
     "name": "stderr",
     "output_type": "stream",
     "text": [
      "\n",
      "100%|██████████| 25/25 [00:00<00:00, 618.24it/s]\n"
     ]
    },
    {
     "name": "stdout",
     "output_type": "stream",
     "text": [
      "[ ][CORE][04/02/25-19:43:29][INFO] Scoring interactions: Calculating scores for all interactions and cell types..\n"
     ]
    },
    {
     "name": "stderr",
     "output_type": "stream",
     "text": [
      "100%|██████████| 625/625 [00:29<00:00, 21.25it/s]\n"
     ]
    },
    {
     "name": "stdout",
     "output_type": "stream",
     "text": [
      "Saved deconvoluted to /home/jo388/rds/rds-zhao-group-HvBBlpwx4dc/ELLIPSE/sort_unsort/data//cpdb/results/statistical_analysis_deconvoluted_unsorted_filtered_down.txt\n",
      "Saved deconvoluted_percents to /home/jo388/rds/rds-zhao-group-HvBBlpwx4dc/ELLIPSE/sort_unsort/data//cpdb/results/statistical_analysis_deconvoluted_percents_unsorted_filtered_down.txt\n",
      "Saved means to /home/jo388/rds/rds-zhao-group-HvBBlpwx4dc/ELLIPSE/sort_unsort/data//cpdb/results/statistical_analysis_means_unsorted_filtered_down.txt\n",
      "Saved pvalues to /home/jo388/rds/rds-zhao-group-HvBBlpwx4dc/ELLIPSE/sort_unsort/data//cpdb/results/statistical_analysis_pvalues_unsorted_filtered_down.txt\n",
      "Saved significant_means to /home/jo388/rds/rds-zhao-group-HvBBlpwx4dc/ELLIPSE/sort_unsort/data//cpdb/results/statistical_analysis_significant_means_unsorted_filtered_down.txt\n",
      "Saved interaction_scores to /home/jo388/rds/rds-zhao-group-HvBBlpwx4dc/ELLIPSE/sort_unsort/data//cpdb/results/statistical_analysis_interaction_scores_unsorted_filtered_down.txt\n"
     ]
    }
   ],
   "source": [
    "cpdb_results = cpdb_statistical_analysis_method.call(\n",
    "    cpdb_file_path = cpdb_file_path,                 # mandatory: CellphoneDB database zip file.\n",
    "    meta_file_path = meta_file_path,                 # mandatory: tsv file defining barcodes to cell label.\n",
    "    counts_file_path = counts_file_path,             # mandatory: normalized count matrix - a path to the counts file, or an in-memory AnnData object\n",
    "    counts_data = 'hgnc_symbol',                     # defines the gene annotation in counts matrix.\n",
    "    active_tfs_file_path = active_tf_path,           # optional: defines cell types and their active TFs.\n",
    "    microenvs_file_path = microenvs_file_path,       # optional (default: None): defines cells per microenvironment.\n",
    "    score_interactions = True,                       # optional: whether to score interactions or not. \n",
    "    iterations = 1000,                               # denotes the number of shufflings performed in the analysis.\n",
    "    threshold = 0.1,                                 # defines the min % of cells expressing a gene for this to be employed in the analysis.\n",
    "    threads = 10,                                     # number of threads to use in the analysis.\n",
    "    debug_seed = 42,                                 # debug randome seed. To disable >=0.\n",
    "    result_precision = 3,                            # Sets the rounding for the mean values in significan_means.\n",
    "    pvalue = 0.05,                                   # P-value threshold to employ for significance.\n",
    "    subsampling = False,                             # To enable subsampling the data (geometri sketching).\n",
    "    subsampling_log = False,                         # (mandatory) enable subsampling log1p for non log-transformed data inputs.\n",
    "    subsampling_num_pc = 100,                        # Number of componets to subsample via geometric skectching (dafault: 100).\n",
    "    subsampling_num_cells = 1000,                    # Number of cells to subsample (integer) (default: 1/3 of the dataset).\n",
    "    separator = '|',                                 # Sets the string to employ to separate cells in the results dataframes \"cellA|CellB\".\n",
    "    debug = False,                                   # Saves all intermediate tables employed during the analysis in pkl format.\n",
    "    output_path = out_path,                          # Path to save results.\n",
    "    output_suffix = 'unsorted_filtered_down'                # Replaces the timestamp in the output files by a user defined string in the  (default: None).\n",
    "    )"
   ]
  },
  {
   "cell_type": "code",
   "execution_count": 37,
   "id": "4577087c",
   "metadata": {},
   "outputs": [],
   "source": [
    "#Save cpdb_results object to import later for analysis:\n",
    "import pickle\n",
    "with open (data_path + 'cpdb/cpdb_unsorted_data_filtered_down.pkl', 'wb') as pkl_file:\n",
    "    pickle.dump(cpdb_results, pkl_file)"
   ]
  }
 ],
 "metadata": {
  "celltoolbar": "Raw Cell Format",
  "kernelspec": {
   "display_name": "cpdb",
   "language": "python",
   "name": "cpdb"
  },
  "language_info": {
   "codemirror_mode": {
    "name": "ipython",
    "version": 3
   },
   "file_extension": ".py",
   "mimetype": "text/x-python",
   "name": "python",
   "nbconvert_exporter": "python",
   "pygments_lexer": "ipython3",
   "version": "3.12.8"
  }
 },
 "nbformat": 4,
 "nbformat_minor": 5
}
