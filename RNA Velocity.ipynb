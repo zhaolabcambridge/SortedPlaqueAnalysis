{
 "cells": [
  {
   "cell_type": "code",
   "execution_count": null,
   "id": "ec8cc652-998f-4f42-ae74-27e6634c36b2",
   "metadata": {},
   "outputs": [],
   "source": [
    "import gc\n",
    "import os\n",
    "import sys\n",
    "import glob\n",
    "import numpy as np\n",
    "import pandas as pd\n",
    "import scanpy as sc\n",
    "import scipy.sparse\n",
    "import scvelo as scv\n",
    "import anndata as ad\n",
    "import scipy.io as sio\n",
    "import dask.dataframe as dd\n",
    "from dask.diagnostics import ProgressBar\n",
    "ProgressBar().register()"
   ]
  },
  {
   "cell_type": "code",
   "execution_count": null,
   "id": "9df8aef4-f18c-48c5-a197-a42a8bc2d504",
   "metadata": {},
   "outputs": [],
   "source": [
    "import session_info\n",
    "session_info.show()"
   ]
  },
  {
   "cell_type": "code",
   "execution_count": null,
   "id": "c76d3e1f-ad1d-43ac-ab4c-bfe1f0bba0f5",
   "metadata": {},
   "outputs": [],
   "source": [
    "working_dir = \"\"\n",
    "tscp_paths = glob.glob(\"\")\n",
    "subs = [*range(1,3)]\n",
    "\n",
    "tscp_unzipped = []\n",
    "# Unzip tscp file, if not already done\n",
    "for path in tscp_paths:\n",
    "    if not os.path.exists(path.replace(\".gz\",\"\")):\n",
    "        os.system(f\"sudo pigz -k -d {path}\")\n",
    "        tscp_unzipped.append(path.replace(\".gz\",\"\"))\n",
    "    else:\n",
    "        tscp_unzipped.append(path.replace(\".gz\",\"\"))\n",
    "\n",
    "print(tscp_unzipped)"
   ]
  },
  {
   "cell_type": "code",
   "execution_count": null,
   "id": "94e90e99-8316-4764-af7a-fcd7a6976480",
   "metadata": {},
   "outputs": [],
   "source": [
    "def generate_splice_matrices(tscp_path, cutoff, adata_path):\n",
    "    print(f\"Reading in {tscp_path}\")\n",
    "    tscp_assign_df = dd.read_csv(tscp_path, blocksize=\"800MB\")\n",
    "    \n",
    "    tscp_assign_df = tscp_assign_df.compute()\n",
    "    cell_tscp_cnts = tscp_assign_df.groupby(\"bc_wells\").size()\n",
    "    cell_tscp_cnts = cell_tscp_cnts[cell_tscp_cnts >= cutoff]\n",
    "    filtered_cell_dict = dict(zip(cell_tscp_cnts.index,np.zeros(len(cell_tscp_cnts))))\n",
    "    \n",
    "    def check_filtered_cell(cell_ind):\n",
    "        try:\n",
    "            filtered_cell_dict[cell_ind]\n",
    "        except:\n",
    "            return False\n",
    "        else:\n",
    "            return True\n",
    "    \n",
    "    genes = tscp_assign_df.gene_name.unique()\n",
    "    bcs = cell_tscp_cnts.index\n",
    "    gene_dict = dict(zip(genes,range(len(genes))))\n",
    "    barcode_dict = dict(zip(bcs,range(len(bcs))))\n",
    "    reads_to_keep = tscp_assign_df.bc_wells.apply(check_filtered_cell)\n",
    "    \n",
    "    print(\"\\nFiltering tscp file..\")\n",
    "    tscp_assign_df_filt = tscp_assign_df[reads_to_keep]\n",
    "    tscp_assign_df_filt[\"cell_index\"] = tscp_assign_df_filt.bc_wells.apply(lambda s:barcode_dict[s])\n",
    "    tscp_assign_df_filt[\"gene_index\"] = tscp_assign_df_filt.gene_name.apply(lambda s:gene_dict[s])\n",
    "    print(\"Done:\", tscp_assign_df_filt.shape)\n",
    "    \n",
    "    rcv = tscp_assign_df_filt.query(\"exonic\").groupby([\"cell_index\",\"gene_index\"]).size().reset_index().values\n",
    "    rows = list(rcv[:,0])+[len(barcode_dict)-1]\n",
    "    cols = list(rcv[:,1])+[len(genes)-1]\n",
    "    vals = list(rcv[:,2])+[0]\n",
    "    X_exonic = scipy.sparse.csr_matrix((vals,(rows,cols)))\n",
    "    \n",
    "    rcv = tscp_assign_df_filt.query(\"~exonic\").groupby([\"cell_index\",\"gene_index\"]).size().reset_index().values\n",
    "    rows = list(rcv[:,0])+[len(barcode_dict)-1]\n",
    "    cols = list(rcv[:,1])+[len(genes)-1]\n",
    "    vals = list(rcv[:,2])+[0]\n",
    "    X_intronic = scipy.sparse.csr_matrix((vals,(rows,cols)))\n",
    "    \n",
    "    X = X_exonic + X_intronic\n",
    "    adata = scv.AnnData(X=X,)\n",
    "    \n",
    "    x_row, x_col = adata.shape\n",
    "    adata.obs = pd.DataFrame({\"barcodes\":bcs}, index=bcs)\n",
    "    adata.var = pd.DataFrame({\"gene\":genes,\"gene_name\":genes})\n",
    "    adata.var.index = genes\n",
    "    \n",
    "    adata.var_names_make_unique()\n",
    "    adata.obs_names_make_unique()\n",
    "    adata.layers[\"spliced\"] = X_exonic\n",
    "    adata.layers[\"unspliced\"] = X_intronic\n",
    "    scv.utils.show_proportions(adata)\n",
    "    \n",
    "    adata.obs.index = adata.obs.index.astype(str)\n",
    "    adata.var.index = adata.var.index.astype(str)\n",
    "    \n",
    "    print(adata)\n",
    "    \n",
    "    adata.write_h5ad(\"\")\n",
    "    print(f\"\")\n",
    "    \n",
    "    return(adata)"
   ]
  },
  {
   "cell_type": "code",
   "execution_count": null,
   "id": "e4f336f7-9618-4903-b26f-5c7be9ea559b",
   "metadata": {},
   "outputs": [],
   "source": [
    "ad_list_sp = []\n",
    "tscp_cutoffs = [\"XXXX\",\"XXXX\"]\n",
    "for i in range(len(tscp_paths)):\n",
    "    ad_list_sp.append(generate_splice_matrices(tscp_unzipped[i], tscp_cutoffs[i], f\"{working_dir}\"))"
   ]
  },
  {
   "cell_type": "code",
   "execution_count": null,
   "id": "b8198932-a6d5-4df6-ac67-63eff7bf3758",
   "metadata": {},
   "outputs": [],
   "source": [
    "# Concatenate objects\n",
    "ad_splice = ad.concat(ad_list_sp, keys=subs,index_unique=\"__s\")"
   ]
  },
  {
   "cell_type": "code",
   "execution_count": null,
   "id": "76ba251b-685a-4e6c-9b2a-5ec7f7b6f1fd",
   "metadata": {},
   "outputs": [],
   "source": [
    "wt = adata[adata.obs[\"plaque\"].isin([\"P1\", \"P2\", \"etc.\"])]\n",
    "wt"
   ]
  },
  {
   "cell_type": "code",
   "execution_count": null,
   "id": "afae6ecf-fb4e-4862-ac0d-5e7976018141",
   "metadata": {},
   "outputs": [],
   "source": [
    "common_bcs = [x for x in ad_splice.obs.index.to_list() if x in wt.obs.index.to_list()]\n",
    "\n",
    "ad_splice = ad_splice[ad_splice.obs.index.isin(common_bcs)]"
   ]
  },
  {
   "cell_type": "code",
   "execution_count": null,
   "id": "138a22c5-3ccd-4a75-90d9-c6ffe9bec2c7",
   "metadata": {},
   "outputs": [],
   "source": [
    "common = ad_splice.obs.join(other=wt.obs, on=ad_splice.obs.index, how=\"left\")"
   ]
  },
  {
   "cell_type": "code",
   "execution_count": null,
   "id": "9879207e-17c6-4219-a9bb-c822761c5021",
   "metadata": {},
   "outputs": [],
   "source": [
    "ad_splice.obs = common"
   ]
  },
  {
   "cell_type": "code",
   "execution_count": null,
   "id": "4769001b-6286-40b6-b0d0-8579e1757771",
   "metadata": {},
   "outputs": [],
   "source": [
    "ad_splice.index.name = None"
   ]
  },
  {
   "cell_type": "code",
   "execution_count": null,
   "id": "11b9df19-f568-49bd-ab9b-108bd0469548",
   "metadata": {},
   "outputs": [],
   "source": [
    "# process and plot"
   ]
  },
  {
   "cell_type": "code",
   "execution_count": null,
   "id": "31952d43-7bfb-4b7d-9d9a-da2cbc9c2daa",
   "metadata": {},
   "outputs": [],
   "source": [
    "scv.settings.verbosity = 3 # show errors(0), warnings(1), info(2), hints(3)\n",
    "scv.pp.filter_genes(ad_splice, min_shared_counts=10)\n",
    "scv.pp.normalize_per_cell(ad_splice)\n",
    "scv.pp.filter_genes_dispersion(ad_splice, n_top_genes=3000)\n",
    "scv.pp.log1p(ad_splice)\n",
    "scv.pp.remove_duplicate_cells(ad_splice)\n",
    "scv.pp.moments(ad_splice, n_pcs=50, n_neighbors=30)\n",
    "\n",
    "sc.tl.umap(ad_splice)\n",
    "scv.tl.velocity(ad_splice, mode=\"stochastic\")\n",
    "scv.tl.velocity_graph(ad_splice)"
   ]
  },
  {
   "cell_type": "code",
   "execution_count": null,
   "id": "b74c3e74-cc91-45d1-b5bd-2f9590460a6c",
   "metadata": {},
   "outputs": [],
   "source": [
    "# fix umap colors\n",
    "\n",
    "fine_colors = {\n",
    "    'CD8+ Tem': \"#1f77b4\",             # Blue\n",
    "    'CD8+ Trm': \"#ff7f0e\",             # Orange\n",
    "    'CD4+/CD8+ Trm/exh': \"#2ca02c\",    # Green\n",
    "    'cDC1': \"#d62728\",                 # Red\n",
    "    'Intermed. Monocytes': \"#9467bd\",  # Purple\n",
    "    'Prolif.': \"#8c564b\",              # Brown\n",
    "    'TREM2+ Macro.': \"#e377c2\",        # Pink\n",
    "    'Naive B Cell': \"#7f7f7f\",         # Grey\n",
    "    'CD4+ Tnaive': \"#bcbd22\",          # Yellow-Green\n",
    "    'CD16- NK': \"#17becf\",             # Cyan\n",
    "    'CD8+ Temra': \"#393b79\",           # Dark Blue\n",
    "    'C1Q+ Macro.': \"#ffbb78\",          # Light Orange\n",
    "    'Plasmablasts': \"#98df8a\",         # Light Green\n",
    "    'cDC2': \"#ff9896\",                 # Light Red\n",
    "    'SMCs': \"#c5b0d5\",                 # Lavender\n",
    "    'Classical Monocytes': \"#c49c94\",  # Light Brown\n",
    "    'CD8+ Tnaive': \"#ffdfea\",          # Light Pink\n",
    "    'CD16+ NK': \"#c7c7c7\",             # Light Grey\n",
    "    'CD4+ Treg': \"#000000\",            # Black\n",
    "    'CD4+ Teff': \"#9edae5\",            # Light Cyan\n",
    "    'Mast Cells': \"#2760d6\",           # Dark Blue\n",
    "    'Neutrophils': \"#e7ba52\",          # Golden Yellow\n",
    "    'Activated B Cell': \"#31a354\",     # Forest Green\n",
    "    'pDCs': \"#FF5733\",                 # Crimson\n",
    "    'Non. Switched Mem. B Cell': \"#ffce1b\",   # Mustard\n",
    "    'Switched Mem. B Cell': \"#FFC0CB\",        # Pink\n",
    "    'Trans. B Cell':\"#012169\",                  # dark Blue\n",
    "    'Endothelial': \"#e77b7b\"           # Light Red\n",
    "}"
   ]
  },
  {
   "cell_type": "code",
   "execution_count": null,
   "id": "f8081c06-2bcf-4b13-94ee-8adb98f98a4f",
   "metadata": {},
   "outputs": [],
   "source": [
    "ad_splice_sorted = ad_splice[ad_splice.obs[\"type\"].isin([\"sorted\"])]\n",
    "ad_splice_unsorted = ad_splice[ad_splice.obs[\"type\"].isin([\"unsorted\"])]"
   ]
  },
  {
   "cell_type": "code",
   "execution_count": null,
   "id": "7b009de2-217c-48e4-9f77-4b8d2a6aa797",
   "metadata": {},
   "outputs": [],
   "source": [
    "# Set figure parameters\n",
    "scv.settings.presenter_view = True # set max width size for presenter view\n",
    "scv.set_figure_params(\"scvelo\") # for beautified visualization\n",
    "scv.set_figure_params(figsize=(6,4), dpi=150, format=\"png\", dpi_save=300, transparent=False, facecolor=\"white\", fontsize=8)\n",
    "\n",
    "import seaborn as sns\n",
    "cluster_colors=sns.color_palette(\"hls\", 28)\n",
    "scv.pl.velocity_embedding_stream(ad_splice, basis=\"umap\", color=\"fine_clustering\", palette=fine_colors, \n",
    "                                 size=10 ,alpha=0.8 ,fontsize=10, save=\"stream_embedding\", legend_loc=\"right\",\n",
    "                                title = \"RNA Velocity - All\")"
   ]
  },
  {
   "cell_type": "code",
   "execution_count": null,
   "id": "91a9ee1d-c72d-4212-b667-044d8ac6c1e3",
   "metadata": {},
   "outputs": [],
   "source": [
    "cluster_colors=sns.color_palette(\"hls\", 28)\n",
    "scv.pl.velocity_embedding_stream(ad_splice_sorted, basis=\"umap\", color=\"fine_clustering\", palette=fine_colors, \n",
    "                                 size=10 ,alpha=0.8 ,fontsize=10, save=\"stream_embedding\", legend_loc=\"right\",\n",
    "                                title = \"RNA Velocity - FACS\")"
   ]
  },
  {
   "cell_type": "code",
   "execution_count": null,
   "id": "917fa81e-498c-48d6-8e67-b95c7ee77c59",
   "metadata": {},
   "outputs": [],
   "source": [
    "cluster_colors=sns.color_palette(\"hls\", 28)\n",
    "scv.pl.velocity_embedding_stream(ad_splice_unsorted, basis=\"umap\", color=\"fine_clustering\", palette=fine_colors, \n",
    "                                 size=10 ,alpha=0.8 ,fontsize=10, save=\"stream_embedding\", legend_loc=\"right\",\n",
    "                                title = \"RNA Velocity - Bead Enriched\")"
   ]
  },
  {
   "cell_type": "code",
   "execution_count": null,
   "id": "db3f8571-d325-49be-aa03-fd42c1deb551",
   "metadata": {},
   "outputs": [],
   "source": [
    "# confirm counts\n",
    "print(ad_splice)\n",
    "print(ad_splice_sorted)\n",
    "print(ad_splice_unsorted)"
   ]
  }
 ],
 "metadata": {
  "kernelspec": {
   "display_name": "Python [conda env:scvelo]",
   "language": "python",
   "name": "conda-env-scvelo-py"
  },
  "language_info": {
   "codemirror_mode": {
    "name": "ipython",
    "version": 3
   },
   "file_extension": ".py",
   "mimetype": "text/x-python",
   "name": "python",
   "nbconvert_exporter": "python",
   "pygments_lexer": "ipython3",
   "version": "3.12.8"
  }
 },
 "nbformat": 4,
 "nbformat_minor": 5
}
